{
 "cells": [
  {
   "cell_type": "code",
   "execution_count": 1,
   "id": "ee1bf2d7",
   "metadata": {},
   "outputs": [
    {
     "name": "stderr",
     "output_type": "stream",
     "text": [
      "C:\\Users\\willv\\anaconda3\\Lib\\site-packages\\sentence_transformers\\cross_encoder\\CrossEncoder.py:13: TqdmExperimentalWarning: Using `tqdm.autonotebook.tqdm` in notebook mode. Use `tqdm.tqdm` instead to force console mode (e.g. in jupyter console)\n",
      "  from tqdm.autonotebook import tqdm, trange\n"
     ]
    },
    {
     "name": "stdout",
     "output_type": "stream",
     "text": [
      "WARNING:tensorflow:From C:\\Users\\willv\\anaconda3\\Lib\\site-packages\\tf_keras\\src\\losses.py:2976: The name tf.losses.sparse_softmax_cross_entropy is deprecated. Please use tf.compat.v1.losses.sparse_softmax_cross_entropy instead.\n",
      "\n"
     ]
    }
   ],
   "source": [
    "import pandas as pd\n",
    "import numpy as np\n",
    "import matplotlib.pyplot as plt\n",
    "import seaborn as sns\n",
    "from itertools import combinations\n",
    "from scipy import stats\n",
    "import os\n",
    "os.environ['OMP_NUM_THREADS'] = '1'\n",
    "import matplotlib\n",
    "matplotlib.style.use('ggplot')\n",
    "\n",
    "from sklearn.pipeline import make_pipeline\n",
    "from sklearn.base import BaseEstimator, TransformerMixin\n",
    "\n",
    "from sentence_transformers import SentenceTransformer\n",
    "import torch\n",
    "import torch.nn.functional as F\n",
    "import faiss\n",
    "from sklearn.metrics.pairwise import cosine_similarity\n",
    "import gc\n",
    "os.environ[\"TOKENIZERS_PARALLELISM\"] = \"false\"\n",
    "os.environ['CUDA_VISIBLE_DEVICES'] = \"0,1\"\n",
    "device = torch.device('cuda' if torch.cuda.is_available() else 'cpu')"
   ]
  },
  {
   "cell_type": "code",
   "execution_count": 2,
   "id": "f928b5d6",
   "metadata": {},
   "outputs": [],
   "source": [
    "#accessing HuggingFace\n",
    "# Set the hub_cache dir\n",
    "os.environ['HF_HOME'] = '/data/shared_models/'\n",
    "#   can also be done by \n",
    "#   os.environ['TRANSFORMERS_CACHE'] = '/data/shared_models/'\n",
    "\n",
    "# set mirror\n",
    "os.environ['HF_ENDPOINT'] = 'https://hf-mirror.com'"
   ]
  },
  {
   "cell_type": "code",
   "execution_count": 6,
   "id": "08904c80",
   "metadata": {},
   "outputs": [],
   "source": [
    "class ensemble_nlp_model(TransformerMixin, BaseEstimator):\n",
    "    models= []\n",
    "    batch_size=16\n",
    "    \n",
    "    map_Dict={}\n",
    "    \n",
    "    K=10\n",
    "    VER=5\n",
    "    D = 1024\n",
    "    weight1, weight2, weight3 = 0.5, 0.35, 0.29\n",
    "\n",
    "    def __init__(self, path_list): \n",
    "        for path in path_list:\n",
    "            self.models.append(self.init_model(path))\n",
    "        print(\"nlp init complete\")\n",
    "        pass\n",
    "    \n",
    "    def init_model(self, model_path):\n",
    "        model = SentenceTransformer(model_path, local_files_only=False, trust_remote_code=True)\n",
    "        model.to(device)\n",
    "        # wrap the model to use all GPUs\n",
    "        model = torch.nn.DataParallel(model)\n",
    "        model.eval()\n",
    "        return model\n",
    "    \n",
    "    def fit(self, map_data,key_name,value_name, y=None):\n",
    "        print('model fit')\n",
    "        #print(X)\n",
    "        \n",
    "        self.map=X\n",
    "        for i in range(self.map.shape[0]):\n",
    "            self.map_Dict[self.map.MisconceptionId.values[i]] = self.map.MisconceptionName.values[i]\n",
    "        \n",
    "        self.map_bge_vect= self.encode_map(X,self.bge_model)\n",
    "        self.map_gte_vect= self.encode_map(X,self.gte_model)\n",
    "        self.map_mpnetv2_vect= self.encode_map(X,self.mpnetv2_model)\n",
    "        \n",
    "        \n",
    "        self.map_ensemble_vect = (self.weight1 * self.map_gte_vect +\n",
    "                                  self.weight2 * self.map_mpnetv2_vect +\n",
    "                                  self.weight3 * self.map_bge_vect)\n",
    "        return self\n",
    "        \n",
    "    \n",
    "    def transform(self, X):\n",
    "        print('nlp transform')\n",
    "        \n",
    "        return  X\n",
    "    \n",
    "    def search_faiss(self, k, d, vectors_to_add, query_vectors):\n",
    "        \"\"\"\n",
    "        Perform a FAISS search with L2 distance.\n",
    "    \n",
    "        Parameters:\n",
    "            k (int): Number of nearest neighbors to search for.\n",
    "            d (int): Dimension of the vectors.\n",
    "            vectors_to_add (numpy.ndarray): The vectors to add to the FAISS index.\n",
    "            query_vectors (numpy.ndarray): The vectors to search for the nearest neighbors.\n",
    "        \n",
    "        Returns:\n",
    "            D (numpy.ndarray): The distances to the k nearest neighbors.\n",
    "            I (numpy.ndarray): The indices of the k nearest neighbors.\n",
    "        \"\"\"\n",
    "        # Create the index\n",
    "        index = faiss.IndexFlatL2(d)\n",
    "    \n",
    "        # Add vectors to the index\n",
    "        index.add(vectors_to_add)\n",
    "    \n",
    "        # Search for k nearest neighbors\n",
    "        D, I = index.search(query_vectors, k)\n",
    "    \n",
    "        return D, I\n",
    "    def encode_map(self, X, model, progress_bar=True):\n",
    "        # Encode misconception names from the misconception_mapping DataFrame\n",
    "        misconception_mapping_vec = model.module.encode(X[\"MisconceptionName\"].to_list(), batch_size=self.batch_size,\n",
    "                                                        normalize_embeddings=True, show_progress_bar=progress_bar)\n",
    "        \n",
    "        torch.cuda.empty_cache()\n",
    "        gc.collect()\n",
    "        \n",
    "        return misconception_mapping_vec\n",
    "        \n",
    "    def encode_texts(self, X, model, progress_bar=True):\n",
    "        \n",
    "        X['AllText']=X.apply(lambda x: f\"<Construct>{x['ConstructName']} <Subject>{x['SubjectName']} <Question>{x['QuestionText']} <Answer>{x['AnswerText']}\",axis=1)\n",
    "        \n",
    "        # Encode all text from X\n",
    "        all_text_vec = model.module.encode(X[\"AllText\"].to_list(), batch_size=self.batch_size ,\n",
    "                                           normalize_embeddings=True, show_progress_bar=progress_bar)\n",
    "    \n",
    "        torch.cuda.empty_cache()\n",
    "        gc.collect()\n",
    "    \n",
    "        return  all_text_vec\n",
    "    \n",
    "    def encode_text_all_models(self, X):\n",
    "        self.bge_text_vec= self.encode_texts(X,self.bge_model)\n",
    "        self.gte_text_vec= self.encode_texts(X,self.gte_model)\n",
    "        self.mpnetv2_text_vec= self.encode_texts(X,self.mpnetv2_model)\n",
    "        return self.bge_text_vec,self.gte_text_vec,self.mpnetv2_text_vec\n",
    "    \n",
    "    def predict(self,X):\n",
    "        \n",
    "        self.encode_text_all_models(X)\n",
    "        \n",
    "        ensemble_text_vec = (self.weight1 * self.gte_text_vec + self.weight2 * self.bge_text_vec + self.weight3 * self.mpnetv2_text_vec)\n",
    "        self.D= ensemble_text_vec.shape[1]\n",
    "        \n",
    "        _, ensemble_indices = self.search_faiss(self.K, self.D, self.map_ensemble_vect, ensemble_text_vec)\n",
    "        self.print_predict(ensemble_indices)\n",
    "        pass\n",
    "    \n",
    "    def print_predict(self,indicies):\n",
    "        count=0\n",
    "        count2=0\n",
    "        for i in indicies:\n",
    "            count+=1\n",
    "            print(f'Question {count}:')\n",
    "            for j in i:\n",
    "                count2+=1\n",
    "                print (f\"Possible Misconception {count2}: #{j}: {self.map_Dict[int(j)]}\")"
   ]
  },
  {
   "cell_type": "code",
   "execution_count": 3,
   "id": "bbae3b9a",
   "metadata": {},
   "outputs": [],
   "source": [
    "BGE_path='BAAI/bge-small-en'\n",
    "GTE_path='thenlper/gte-small'\n",
    "MPNetV2_path='all-mpnet-base-v2'"
   ]
  },
  {
   "cell_type": "code",
   "execution_count": 4,
   "id": "1937ca1d",
   "metadata": {},
   "outputs": [],
   "source": [
    "path_list=[BGE_path, GTE_path,MPNetV2_path]"
   ]
  },
  {
   "cell_type": "code",
   "execution_count": 7,
   "id": "94b1a901",
   "metadata": {
    "scrolled": true
   },
   "outputs": [
    {
     "data": {
      "application/vnd.jupyter.widget-view+json": {
       "model_id": "161ecec319ba4283be999634205c7148",
       "version_major": 2,
       "version_minor": 0
      },
      "text/plain": [
       "modules.json:   0%|          | 0.00/349 [00:00<?, ?B/s]"
      ]
     },
     "metadata": {},
     "output_type": "display_data"
    },
    {
     "data": {
      "application/vnd.jupyter.widget-view+json": {
       "model_id": "6a05fff29af24156818e0133f3284f80",
       "version_major": 2,
       "version_minor": 0
      },
      "text/plain": [
       "config_sentence_transformers.json:   0%|          | 0.00/124 [00:00<?, ?B/s]"
      ]
     },
     "metadata": {},
     "output_type": "display_data"
    },
    {
     "data": {
      "application/vnd.jupyter.widget-view+json": {
       "model_id": "13a30245efe348e28b652cca737be730",
       "version_major": 2,
       "version_minor": 0
      },
      "text/plain": [
       "README.md:   0%|          | 0.00/90.8k [00:00<?, ?B/s]"
      ]
     },
     "metadata": {},
     "output_type": "display_data"
    },
    {
     "data": {
      "application/vnd.jupyter.widget-view+json": {
       "model_id": "08de074fbae14b8b9af2190cace32296",
       "version_major": 2,
       "version_minor": 0
      },
      "text/plain": [
       "sentence_bert_config.json:   0%|          | 0.00/52.0 [00:00<?, ?B/s]"
      ]
     },
     "metadata": {},
     "output_type": "display_data"
    },
    {
     "data": {
      "application/vnd.jupyter.widget-view+json": {
       "model_id": "4910a5800c4a4905a695bb0f55f5b6ce",
       "version_major": 2,
       "version_minor": 0
      },
      "text/plain": [
       "config.json:   0%|          | 0.00/684 [00:00<?, ?B/s]"
      ]
     },
     "metadata": {},
     "output_type": "display_data"
    },
    {
     "data": {
      "application/vnd.jupyter.widget-view+json": {
       "model_id": "90ea10f7826b40769e7f1e050d1a7cd8",
       "version_major": 2,
       "version_minor": 0
      },
      "text/plain": [
       "model.safetensors:   0%|          | 0.00/133M [00:00<?, ?B/s]"
      ]
     },
     "metadata": {},
     "output_type": "display_data"
    },
    {
     "data": {
      "application/vnd.jupyter.widget-view+json": {
       "model_id": "6b5680e4cd134e3fad4cd665632891ce",
       "version_major": 2,
       "version_minor": 0
      },
      "text/plain": [
       "tokenizer_config.json:   0%|          | 0.00/366 [00:00<?, ?B/s]"
      ]
     },
     "metadata": {},
     "output_type": "display_data"
    },
    {
     "data": {
      "application/vnd.jupyter.widget-view+json": {
       "model_id": "6b01460908634aa8924050215ee35232",
       "version_major": 2,
       "version_minor": 0
      },
      "text/plain": [
       "vocab.txt:   0%|          | 0.00/232k [00:00<?, ?B/s]"
      ]
     },
     "metadata": {},
     "output_type": "display_data"
    },
    {
     "data": {
      "application/vnd.jupyter.widget-view+json": {
       "model_id": "63c4277ed50c4996ab4c054c860f2241",
       "version_major": 2,
       "version_minor": 0
      },
      "text/plain": [
       "tokenizer.json:   0%|          | 0.00/711k [00:00<?, ?B/s]"
      ]
     },
     "metadata": {},
     "output_type": "display_data"
    },
    {
     "data": {
      "application/vnd.jupyter.widget-view+json": {
       "model_id": "b500a7d9abda4763bed3909033598dca",
       "version_major": 2,
       "version_minor": 0
      },
      "text/plain": [
       "special_tokens_map.json:   0%|          | 0.00/125 [00:00<?, ?B/s]"
      ]
     },
     "metadata": {},
     "output_type": "display_data"
    },
    {
     "data": {
      "application/vnd.jupyter.widget-view+json": {
       "model_id": "d914a0fc62b444e29cf5b19dc958c631",
       "version_major": 2,
       "version_minor": 0
      },
      "text/plain": [
       "1_Pooling/config.json:   0%|          | 0.00/190 [00:00<?, ?B/s]"
      ]
     },
     "metadata": {},
     "output_type": "display_data"
    },
    {
     "data": {
      "application/vnd.jupyter.widget-view+json": {
       "model_id": "f6045f24121d4f12a883f5e1e3aece9a",
       "version_major": 2,
       "version_minor": 0
      },
      "text/plain": [
       "modules.json:   0%|          | 0.00/385 [00:00<?, ?B/s]"
      ]
     },
     "metadata": {},
     "output_type": "display_data"
    },
    {
     "data": {
      "application/vnd.jupyter.widget-view+json": {
       "model_id": "79c880cbb1cd4bbda1e74fb2e03871c1",
       "version_major": 2,
       "version_minor": 0
      },
      "text/plain": [
       "README.md:   0%|          | 0.00/68.1k [00:00<?, ?B/s]"
      ]
     },
     "metadata": {},
     "output_type": "display_data"
    },
    {
     "data": {
      "application/vnd.jupyter.widget-view+json": {
       "model_id": "b99619cadaeb4e7ab946f45c8354d422",
       "version_major": 2,
       "version_minor": 0
      },
      "text/plain": [
       "sentence_bert_config.json:   0%|          | 0.00/57.0 [00:00<?, ?B/s]"
      ]
     },
     "metadata": {},
     "output_type": "display_data"
    },
    {
     "data": {
      "application/vnd.jupyter.widget-view+json": {
       "model_id": "f65b6675c025493b81c77e07d0fc8e64",
       "version_major": 2,
       "version_minor": 0
      },
      "text/plain": [
       "config.json:   0%|          | 0.00/583 [00:00<?, ?B/s]"
      ]
     },
     "metadata": {},
     "output_type": "display_data"
    },
    {
     "data": {
      "application/vnd.jupyter.widget-view+json": {
       "model_id": "b38eaeb2de2745b6bf33f05a2413c19d",
       "version_major": 2,
       "version_minor": 0
      },
      "text/plain": [
       "model.safetensors:   0%|          | 0.00/66.7M [00:00<?, ?B/s]"
      ]
     },
     "metadata": {},
     "output_type": "display_data"
    },
    {
     "data": {
      "application/vnd.jupyter.widget-view+json": {
       "model_id": "9efb2c9e78c04f50bd6c5b93ff1c0ae5",
       "version_major": 2,
       "version_minor": 0
      },
      "text/plain": [
       "tokenizer_config.json:   0%|          | 0.00/394 [00:00<?, ?B/s]"
      ]
     },
     "metadata": {},
     "output_type": "display_data"
    },
    {
     "data": {
      "application/vnd.jupyter.widget-view+json": {
       "model_id": "c6fd670f3096478f9a24c6136642effa",
       "version_major": 2,
       "version_minor": 0
      },
      "text/plain": [
       "vocab.txt:   0%|          | 0.00/232k [00:00<?, ?B/s]"
      ]
     },
     "metadata": {},
     "output_type": "display_data"
    },
    {
     "data": {
      "application/vnd.jupyter.widget-view+json": {
       "model_id": "ea6a351578c148fcb3d105477eed19a1",
       "version_major": 2,
       "version_minor": 0
      },
      "text/plain": [
       "tokenizer.json:   0%|          | 0.00/712k [00:00<?, ?B/s]"
      ]
     },
     "metadata": {},
     "output_type": "display_data"
    },
    {
     "data": {
      "application/vnd.jupyter.widget-view+json": {
       "model_id": "8e425dbd0ef4475f928f1841601a581d",
       "version_major": 2,
       "version_minor": 0
      },
      "text/plain": [
       "special_tokens_map.json:   0%|          | 0.00/125 [00:00<?, ?B/s]"
      ]
     },
     "metadata": {},
     "output_type": "display_data"
    },
    {
     "data": {
      "application/vnd.jupyter.widget-view+json": {
       "model_id": "d00d00d606fb46498528b96aebd2dc03",
       "version_major": 2,
       "version_minor": 0
      },
      "text/plain": [
       "1_Pooling/config.json:   0%|          | 0.00/190 [00:00<?, ?B/s]"
      ]
     },
     "metadata": {},
     "output_type": "display_data"
    },
    {
     "data": {
      "application/vnd.jupyter.widget-view+json": {
       "model_id": "a57f5e23a27f4ffd87c9e48794cabc38",
       "version_major": 2,
       "version_minor": 0
      },
      "text/plain": [
       "modules.json:   0%|          | 0.00/349 [00:00<?, ?B/s]"
      ]
     },
     "metadata": {},
     "output_type": "display_data"
    },
    {
     "data": {
      "application/vnd.jupyter.widget-view+json": {
       "model_id": "c4bf84a0746c4f3692e7a530df7caa69",
       "version_major": 2,
       "version_minor": 0
      },
      "text/plain": [
       "config_sentence_transformers.json:   0%|          | 0.00/116 [00:00<?, ?B/s]"
      ]
     },
     "metadata": {},
     "output_type": "display_data"
    },
    {
     "data": {
      "application/vnd.jupyter.widget-view+json": {
       "model_id": "2e29f82c9428401f834745e80954e484",
       "version_major": 2,
       "version_minor": 0
      },
      "text/plain": [
       "README.md:   0%|          | 0.00/10.6k [00:00<?, ?B/s]"
      ]
     },
     "metadata": {},
     "output_type": "display_data"
    },
    {
     "data": {
      "application/vnd.jupyter.widget-view+json": {
       "model_id": "55011fbaeb214f439cb603bda33beec6",
       "version_major": 2,
       "version_minor": 0
      },
      "text/plain": [
       "sentence_bert_config.json:   0%|          | 0.00/53.0 [00:00<?, ?B/s]"
      ]
     },
     "metadata": {},
     "output_type": "display_data"
    },
    {
     "data": {
      "application/vnd.jupyter.widget-view+json": {
       "model_id": "1ada7508f48747188feac4454ce9d95d",
       "version_major": 2,
       "version_minor": 0
      },
      "text/plain": [
       "config.json:   0%|          | 0.00/571 [00:00<?, ?B/s]"
      ]
     },
     "metadata": {},
     "output_type": "display_data"
    },
    {
     "data": {
      "application/vnd.jupyter.widget-view+json": {
       "model_id": "8ad252ccf12e421a9f9d3ea41f74888e",
       "version_major": 2,
       "version_minor": 0
      },
      "text/plain": [
       "model.safetensors:   0%|          | 0.00/438M [00:00<?, ?B/s]"
      ]
     },
     "metadata": {},
     "output_type": "display_data"
    },
    {
     "data": {
      "application/vnd.jupyter.widget-view+json": {
       "model_id": "a9fbca054fc94259a9bf2a54ba3c843a",
       "version_major": 2,
       "version_minor": 0
      },
      "text/plain": [
       "tokenizer_config.json:   0%|          | 0.00/363 [00:00<?, ?B/s]"
      ]
     },
     "metadata": {},
     "output_type": "display_data"
    },
    {
     "data": {
      "application/vnd.jupyter.widget-view+json": {
       "model_id": "5f0f9d8e7d4347c9bc5a0397290e157a",
       "version_major": 2,
       "version_minor": 0
      },
      "text/plain": [
       "vocab.txt:   0%|          | 0.00/232k [00:00<?, ?B/s]"
      ]
     },
     "metadata": {},
     "output_type": "display_data"
    },
    {
     "data": {
      "application/vnd.jupyter.widget-view+json": {
       "model_id": "15e87df2f06b447294b43795d4219c49",
       "version_major": 2,
       "version_minor": 0
      },
      "text/plain": [
       "tokenizer.json:   0%|          | 0.00/466k [00:00<?, ?B/s]"
      ]
     },
     "metadata": {},
     "output_type": "display_data"
    },
    {
     "data": {
      "application/vnd.jupyter.widget-view+json": {
       "model_id": "11b47428da9c4f689a8146873ebe855a",
       "version_major": 2,
       "version_minor": 0
      },
      "text/plain": [
       "special_tokens_map.json:   0%|          | 0.00/239 [00:00<?, ?B/s]"
      ]
     },
     "metadata": {},
     "output_type": "display_data"
    },
    {
     "data": {
      "application/vnd.jupyter.widget-view+json": {
       "model_id": "570abe3978dd4b6ca9aaa7dcccbfb02b",
       "version_major": 2,
       "version_minor": 0
      },
      "text/plain": [
       "1_Pooling/config.json:   0%|          | 0.00/190 [00:00<?, ?B/s]"
      ]
     },
     "metadata": {},
     "output_type": "display_data"
    },
    {
     "name": "stdout",
     "output_type": "stream",
     "text": [
      "nlp init complete\n"
     ]
    }
   ],
   "source": [
    "model=ensemble_nlp_model(path_list)"
   ]
  },
  {
   "cell_type": "code",
   "execution_count": null,
   "id": "e37e9689",
   "metadata": {},
   "outputs": [],
   "source": []
  }
 ],
 "metadata": {
  "kernelspec": {
   "display_name": "Python 3 (ipykernel)",
   "language": "python",
   "name": "python3"
  },
  "language_info": {
   "codemirror_mode": {
    "name": "ipython",
    "version": 3
   },
   "file_extension": ".py",
   "mimetype": "text/x-python",
   "name": "python",
   "nbconvert_exporter": "python",
   "pygments_lexer": "ipython3",
   "version": "3.11.7"
  }
 },
 "nbformat": 4,
 "nbformat_minor": 5
}
